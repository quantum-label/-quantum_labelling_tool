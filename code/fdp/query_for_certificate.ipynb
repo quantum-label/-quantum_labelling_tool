{
 "cells": [
  {
   "cell_type": "code",
   "execution_count": null,
   "metadata": {},
   "outputs": [],
   "source": [
    "# Returns all certificates under a dataset\n",
    "from rdflib import Graph\n"
   ]
  },
  {
   "cell_type": "code",
   "execution_count": null,
   "metadata": {},
   "outputs": [],
   "source": [
    "# Returns all certificates under a dataset\n",
    "\n",
    "dataset_uri = \"http://his-fdp-srv-t1.darwinproject.be:8080/dataset/f19bafa6-a58b-4e11-b504-55a613f000cc\"\n",
    "\n",
    "q = \"\"\"\n",
    "    PREFIX dqv: <http://www.w3.org/ns/dqv#>  \n",
    "\n",
    "    SELECT ?certificates\n",
    "    WHERE {\n",
    "        ?p dqv:hasQualityAnnotation ?certificates .\n",
    "\t}\n",
    "\n",
    "\"\"\"\n",
    "\n",
    "# Create a Graph (subject, predicate, object), parse from the records\n",
    "g = Graph().parse(dataset_uri)\n",
    "\n",
    "for r in g.query(q):\n",
    "    print(r[\"certificates\"])\n"
   ]
  }
 ],
 "metadata": {
  "language_info": {
   "name": "python"
  }
 },
 "nbformat": 4,
 "nbformat_minor": 2
}
